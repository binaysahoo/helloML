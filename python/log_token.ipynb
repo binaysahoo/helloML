{
 "cells": [
  {
   "cell_type": "code",
   "execution_count": 2,
   "id": "4137f5da",
   "metadata": {},
   "outputs": [],
   "source": [
    "import nltk\n",
    "from nltk.tokenize import word_tokenize, sent_tokenize\n",
    "from nltk.tag import pos_tag\n",
    "from nltk.chunk import ne_chunk\n",
    "\n",
    "\n"
   ]
  },
  {
   "cell_type": "code",
   "execution_count": 7,
   "id": "b8e5dc98",
   "metadata": {},
   "outputs": [
    {
     "name": "stderr",
     "output_type": "stream",
     "text": [
      "[nltk_data] Downloading package punkt to\n",
      "[nltk_data]     /Users/binaysahoo/nltk_data...\n",
      "[nltk_data]   Package punkt is already up-to-date!\n",
      "[nltk_data] Downloading package averaged_perceptron_tagger to\n",
      "[nltk_data]     /Users/binaysahoo/nltk_data...\n",
      "[nltk_data]   Package averaged_perceptron_tagger is already up-to-\n",
      "[nltk_data]       date!\n",
      "[nltk_data] Downloading package maxent_ne_chunker to\n",
      "[nltk_data]     /Users/binaysahoo/nltk_data...\n",
      "[nltk_data]   Package maxent_ne_chunker is already up-to-date!\n",
      "[nltk_data] Downloading package words to\n",
      "[nltk_data]     /Users/binaysahoo/nltk_data...\n",
      "[nltk_data]   Unzipping corpora/words.zip.\n"
     ]
    },
    {
     "data": {
      "text/plain": [
       "True"
      ]
     },
     "execution_count": 7,
     "metadata": {},
     "output_type": "execute_result"
    }
   ],
   "source": [
    "nltk.download('punkt')\n",
    "nltk.download('averaged_perceptron_tagger')\n",
    "\n",
    "# Download the 'maxent_ne_chunker' resource\n",
    "nltk.download('maxent_ne_chunker')\n",
    "\n",
    "nltk.download('words')\n",
    "\n"
   ]
  },
  {
   "cell_type": "code",
   "execution_count": null,
   "id": "949f163c",
   "metadata": {},
   "outputs": [],
   "source": []
  },
  {
   "cell_type": "code",
   "execution_count": 14,
   "id": "3e92bc9e",
   "metadata": {},
   "outputs": [
    {
     "name": "stdout",
     "output_type": "stream",
     "text": [
      "PERSON: Error\n",
      "PERSON: Request\n",
      "PERSON: Error\n",
      "PERSON: Error\n",
      "PERSON: Trace\n",
      "PERSON: Debug\n",
      "PERSON: Error\n",
      "PERSON: Task\n",
      "ORGANIZATION: CPU\n",
      "PERSON: Error\n",
      "PERSON: Trace\n",
      "PERSON: Debug\n",
      "PERSON: Error\n",
      "PERSON: Network\n",
      "PERSON: Error\n",
      "PERSON: Below\n",
      "PERSON: Python\n",
      "ORGANIZATION: DBSCAN\n",
      "ORGANIZATION: LANG_CXX11\n",
      "ORGANIZATION: LANG_CXX11\n",
      "ORGANIZATION: LANG_CXX11\n",
      "GPE: Foo\n"
     ]
    }
   ],
   "source": [
    "def extract_summary_tags(log_message):\n",
    "    words = word_tokenize(log_message)\n",
    "    pos_tags = pos_tag(words)\n",
    "    named_entities = ne_chunk(pos_tags)\n",
    "\n",
    "    summary_tags = []\n",
    "    for subtree in named_entities:\n",
    "        if isinstance(subtree, nltk.Tree):\n",
    "            entity = \" \".join([word for word, tag in subtree.leaves()])\n",
    "            summary_tags.append((entity, subtree.label()))\n",
    "\n",
    "    return summary_tags\n",
    "\n",
    "# Read the log file\n",
    "with open('sample_log.txt', 'r') as file:\n",
    "    log_lines = file.readlines()\n",
    "\n",
    "# Process each log message and extract summary tags\n",
    "for line_number, log_message in enumerate(log_lines):\n",
    "    tags = extract_summary_tags(log_message)\n",
    "    \n",
    "    #print(f\"\\nLog Line {line_number + 1}:\")\n",
    "    if tags:\n",
    "        #print(log_message)\n",
    "        for tag, entity_type in tags:\n",
    "            print(f\"{entity_type}: {tag}\")        \n",
    "    #else:\n",
    "    #    pass\n",
    "    #    print(\"No summary tags found.\")\n",
    "        "
   ]
  },
  {
   "cell_type": "code",
   "execution_count": null,
   "id": "25c1423d",
   "metadata": {},
   "outputs": [],
   "source": [
    "`cat `"
   ]
  },
  {
   "cell_type": "code",
   "execution_count": null,
   "id": "e872d3b7",
   "metadata": {},
   "outputs": [],
   "source": []
  }
 ],
 "metadata": {
  "kernelspec": {
   "display_name": "Python 3 (ipykernel)",
   "language": "python",
   "name": "python3"
  },
  "language_info": {
   "codemirror_mode": {
    "name": "ipython",
    "version": 3
   },
   "file_extension": ".py",
   "mimetype": "text/x-python",
   "name": "python",
   "nbconvert_exporter": "python",
   "pygments_lexer": "ipython3",
   "version": "3.11.5"
  }
 },
 "nbformat": 4,
 "nbformat_minor": 5
}
