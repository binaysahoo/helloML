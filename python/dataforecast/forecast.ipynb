{
 "cells": [
  {
   "cell_type": "code",
   "execution_count": 16,
   "id": "2ee4b6e0",
   "metadata": {},
   "outputs": [
    {
     "data": {
      "text/html": [
       "<div>\n",
       "<style scoped>\n",
       "    .dataframe tbody tr th:only-of-type {\n",
       "        vertical-align: middle;\n",
       "    }\n",
       "\n",
       "    .dataframe tbody tr th {\n",
       "        vertical-align: top;\n",
       "    }\n",
       "\n",
       "    .dataframe thead th {\n",
       "        text-align: right;\n",
       "    }\n",
       "</style>\n",
       "<table border=\"1\" class=\"dataframe\">\n",
       "  <thead>\n",
       "    <tr style=\"text-align: right;\">\n",
       "      <th></th>\n",
       "      <th>date</th>\n",
       "      <th>close</th>\n",
       "      <th>volume</th>\n",
       "      <th>open</th>\n",
       "      <th>high</th>\n",
       "      <th>low</th>\n",
       "    </tr>\n",
       "  </thead>\n",
       "  <tbody>\n",
       "    <tr>\n",
       "      <th>0</th>\n",
       "      <td>11:34</td>\n",
       "      <td>270.49</td>\n",
       "      <td>4,787,699</td>\n",
       "      <td>264.50</td>\n",
       "      <td>273.88</td>\n",
       "      <td>262.2400</td>\n",
       "    </tr>\n",
       "    <tr>\n",
       "      <th>1</th>\n",
       "      <td>2018/10/15</td>\n",
       "      <td>259.59</td>\n",
       "      <td>6189026.0000</td>\n",
       "      <td>259.06</td>\n",
       "      <td>263.28</td>\n",
       "      <td>254.5367</td>\n",
       "    </tr>\n",
       "    <tr>\n",
       "      <th>2</th>\n",
       "      <td>2018/10/12</td>\n",
       "      <td>258.78</td>\n",
       "      <td>7189257.0000</td>\n",
       "      <td>261.00</td>\n",
       "      <td>261.99</td>\n",
       "      <td>252.0100</td>\n",
       "    </tr>\n",
       "    <tr>\n",
       "      <th>3</th>\n",
       "      <td>2018/10/11</td>\n",
       "      <td>252.23</td>\n",
       "      <td>8128184.0000</td>\n",
       "      <td>257.53</td>\n",
       "      <td>262.25</td>\n",
       "      <td>249.0300</td>\n",
       "    </tr>\n",
       "    <tr>\n",
       "      <th>4</th>\n",
       "      <td>2018/10/10</td>\n",
       "      <td>256.88</td>\n",
       "      <td>12781560.0000</td>\n",
       "      <td>264.61</td>\n",
       "      <td>265.51</td>\n",
       "      <td>247.7700</td>\n",
       "    </tr>\n",
       "  </tbody>\n",
       "</table>\n",
       "</div>"
      ],
      "text/plain": [
       "         date   close         volume    open    high       low\n",
       "0       11:34  270.49      4,787,699  264.50  273.88  262.2400\n",
       "1  2018/10/15  259.59   6189026.0000  259.06  263.28  254.5367\n",
       "2  2018/10/12  258.78   7189257.0000  261.00  261.99  252.0100\n",
       "3  2018/10/11  252.23   8128184.0000  257.53  262.25  249.0300\n",
       "4  2018/10/10  256.88  12781560.0000  264.61  265.51  247.7700"
      ]
     },
     "execution_count": 16,
     "metadata": {},
     "output_type": "execute_result"
    }
   ],
   "source": [
    "# Python\n",
    "import pandas as pd\n",
    "from prophet import Prophet\n",
    "\n",
    "\n",
    "\n",
    "# Python\n",
    "df = pd.read_csv(\"https://raw.githubusercontent.com/plotly/datasets/master/tesla-stock-price.csv\")\n",
    "#df = pd.read_csv('https://raw.githubusercontent.com/facebook/prophet/main/examples/example_wp_log_peyton_manning.csv')\n",
    "df.head()\n"
   ]
  },
  {
   "cell_type": "code",
   "execution_count": 17,
   "id": "b4a3dd5b",
   "metadata": {},
   "outputs": [
    {
     "name": "stderr",
     "output_type": "stream",
     "text": [
      "/var/folders/x8/1ptyff0107s65j03tt4ydrp40000gn/T/ipykernel_3574/437474679.py:2: UserWarning: Could not infer format, so each element will be parsed individually, falling back to `dateutil`. To ensure parsing is consistent and as-expected, please specify a format.\n",
      "  df['ds'] = pd.to_datetime(df['date'])\n"
     ]
    }
   ],
   "source": [
    "# Python\n",
    "df['ds'] = pd.to_datetime(df['date'])\n",
    "df['y'] = df['close']"
   ]
  },
  {
   "cell_type": "code",
   "execution_count": 18,
   "id": "b79f2dd4",
   "metadata": {},
   "outputs": [
    {
     "name": "stderr",
     "output_type": "stream",
     "text": [
      "21:38:29 - cmdstanpy - INFO - Chain [1] start processing\n",
      "21:38:29 - cmdstanpy - INFO - Chain [1] done processing\n",
      "21:38:29 - cmdstanpy - ERROR - Chain [1] error: terminated by signal 6 Unknown error: -6\n",
      "Optimization terminated abnormally. Falling back to Newton.\n",
      "21:38:29 - cmdstanpy - INFO - Chain [1] start processing\n",
      "21:38:29 - cmdstanpy - INFO - Chain [1] done processing\n",
      "21:38:29 - cmdstanpy - ERROR - Chain [1] error: terminated by signal 6 Unknown error: -6\n"
     ]
    },
    {
     "ename": "RuntimeError",
     "evalue": "Error during optimization! Command '/opt/homebrew/lib/python3.11/site-packages/prophet/stan_model/prophet_model.bin random seed=24955 data file=/var/folders/x8/1ptyff0107s65j03tt4ydrp40000gn/T/tmpfoi3fvbj/5_n4oru3.json init=/var/folders/x8/1ptyff0107s65j03tt4ydrp40000gn/T/tmpfoi3fvbj/3pp4jacu.json output file=/var/folders/x8/1ptyff0107s65j03tt4ydrp40000gn/T/tmpfoi3fvbj/prophet_modelw2yns04x/prophet_model-20230627213829.csv method=optimize algorithm=newton iter=10000' failed: console log output:\n\ndyld[4060]: Library not loaded: @rpath/libtbb.dylib\n  Referenced from: <436C1B56-96D4-36C7-AFF2-F5044AE0E2DB> /opt/homebrew/lib/python3.11/site-packages/prophet/stan_model/prophet_model.bin\n  Reason: tried: '/private/var/folders/x8/1ptyff0107s65j03tt4ydrp40000gn/T/pip-install-_hgsvj0k/prophet_1fa22649b63641eeabb894052e62c2f0/build/lib.macosx-13-arm64-cpython-311/prophet/stan_model/cmdstan-2.31.0/stan/lib/stan_math/lib/tbb/libtbb.dylib' (no such file), '/System/Volumes/Preboot/Cryptexes/OS/private/var/folders/x8/1ptyff0107s65j03tt4ydrp40000gn/T/pip-install-_hgsvj0k/prophet_1fa22649b63641eeabb894052e62c2f0/build/lib.macosx-13-arm64-cpython-311/prophet/stan_model/cmdstan-2.31.0/stan/lib/stan_math/lib/tbb/libtbb.dylib' (no such file), '/private/var/folders/x8/1ptyff0107s65j03tt4ydrp40000gn/T/pip-install-_hgsvj0k/prophet_1fa22649b63641eeabb894052e62c2f0/build/lib.macosx-13-arm64-cpython-311/prophet/stan_model/cmdstan-2.31.0/stan/lib/stan_math/lib/tbb/libtbb.dylib' (no such file), '/System/Volumes/Preboot/Cryptexes/OS/private/var/folders/x8/1ptyff0107s65j03tt4ydrp40000gn/T/pip-install-_hgsvj0k/prophet_1fa22649b63641eeabb894052e62c2f0/build/lib.macosx-13-arm64-cpython-311/prophet/stan_model/cmdstan-2.31.0/stan/lib/stan_math/lib/tbb/libtbb.dylib' (no such file), '/private/var/folders/x8/1ptyff0107s65j03tt4ydrp40000gn/T/pip-install-_hgsvj0k/prophet_1fa22649b63641eeabb894052e62c2f0/build/lib.macosx-13-arm64-cpython-311/prophet/stan_model/cmdstan-2.31.0/stan/lib/stan_math/lib/tbb/libtbb.dylib' (no such file), '/System/Volumes/Preboot/Cryptexes/OS/private/var/folders/x8/1ptyff0107s65j03tt4ydrp40000gn/T/pip-install-_hgsvj0k/prophet_1fa22649b63641eeabb894052e62c2f0/build/lib.macosx-13-arm64-cpython-311/prophet/stan_model/cmdstan-2.31.0/stan/lib/stan_math/lib/tbb/libtbb.dylib' (no such file), '/private/var/folders/x8/1ptyff0107s65j03tt4ydrp40000gn/T/pip-install-_hgsvj0k/prophet_1fa22649b63641eeabb894052e62c2f0/build/lib.macosx-13-arm64-cpython-311/prophet/stan_model/cmdstan-2.31.0/stan/lib/stan_math/lib/tbb/libtbb.dylib' (no such file), '/System/Volumes/Preboot/Cryptexes/OS/private/var/folders/x8/1ptyff0107s65j03tt4ydrp40000gn/T/pip-install-_hgsvj0k/prophet_1fa22649b63641eeabb894052e62c2f0/build/lib.macosx-13-arm64-cpython-311/prophet/stan_model/cmdstan-2.31.0/stan/lib/stan_math/lib/tbb/libtbb.dylib' (no such file), '/usr/local/lib/libtbb.dylib' (no such file), '/usr/lib/libtbb.dylib' (no such file, not in dyld cache)\n",
     "output_type": "error",
     "traceback": [
      "\u001b[0;31m---------------------------------------------------------------------------\u001b[0m",
      "\u001b[0;31mRuntimeError\u001b[0m                              Traceback (most recent call last)",
      "File \u001b[0;32m/opt/homebrew/lib/python3.11/site-packages/prophet/models.py:90\u001b[0m, in \u001b[0;36mCmdStanPyBackend.fit\u001b[0;34m(self, stan_init, stan_data, **kwargs)\u001b[0m\n\u001b[1;32m     89\u001b[0m \u001b[38;5;28;01mtry\u001b[39;00m:\n\u001b[0;32m---> 90\u001b[0m     \u001b[38;5;28mself\u001b[39m\u001b[38;5;241m.\u001b[39mstan_fit \u001b[38;5;241m=\u001b[39m \u001b[38;5;28;43mself\u001b[39;49m\u001b[38;5;241;43m.\u001b[39;49m\u001b[43mmodel\u001b[49m\u001b[38;5;241;43m.\u001b[39;49m\u001b[43moptimize\u001b[49m\u001b[43m(\u001b[49m\u001b[38;5;241;43m*\u001b[39;49m\u001b[38;5;241;43m*\u001b[39;49m\u001b[43margs\u001b[49m\u001b[43m)\u001b[49m\n\u001b[1;32m     91\u001b[0m \u001b[38;5;28;01mexcept\u001b[39;00m \u001b[38;5;167;01mRuntimeError\u001b[39;00m \u001b[38;5;28;01mas\u001b[39;00m e:\n\u001b[1;32m     92\u001b[0m     \u001b[38;5;66;03m# Fall back on Newton\u001b[39;00m\n",
      "File \u001b[0;32m/opt/homebrew/lib/python3.11/site-packages/cmdstanpy/model.py:738\u001b[0m, in \u001b[0;36mCmdStanModel.optimize\u001b[0;34m(self, data, seed, inits, output_dir, sig_figs, save_profile, algorithm, init_alpha, tol_obj, tol_rel_obj, tol_grad, tol_rel_grad, tol_param, history_size, iter, save_iterations, require_converged, show_console, refresh, time_fmt, timeout)\u001b[0m\n\u001b[1;32m    737\u001b[0m     \u001b[38;5;28;01melse\u001b[39;00m:\n\u001b[0;32m--> 738\u001b[0m         \u001b[38;5;28;01mraise\u001b[39;00m \u001b[38;5;167;01mRuntimeError\u001b[39;00m(msg)\n\u001b[1;32m    739\u001b[0m mle \u001b[38;5;241m=\u001b[39m CmdStanMLE(runset)\n",
      "\u001b[0;31mRuntimeError\u001b[0m: Error during optimization! Command '/opt/homebrew/lib/python3.11/site-packages/prophet/stan_model/prophet_model.bin random seed=97191 data file=/var/folders/x8/1ptyff0107s65j03tt4ydrp40000gn/T/tmpfoi3fvbj/uu2bsfy8.json init=/var/folders/x8/1ptyff0107s65j03tt4ydrp40000gn/T/tmpfoi3fvbj/dl1pj3yi.json output file=/var/folders/x8/1ptyff0107s65j03tt4ydrp40000gn/T/tmpfoi3fvbj/prophet_modelig7nb37q/prophet_model-20230627213829.csv method=optimize algorithm=lbfgs iter=10000' failed: console log output:\n\ndyld[4059]: Library not loaded: @rpath/libtbb.dylib\n  Referenced from: <436C1B56-96D4-36C7-AFF2-F5044AE0E2DB> /opt/homebrew/lib/python3.11/site-packages/prophet/stan_model/prophet_model.bin\n  Reason: tried: '/private/var/folders/x8/1ptyff0107s65j03tt4ydrp40000gn/T/pip-install-_hgsvj0k/prophet_1fa22649b63641eeabb894052e62c2f0/build/lib.macosx-13-arm64-cpython-311/prophet/stan_model/cmdstan-2.31.0/stan/lib/stan_math/lib/tbb/libtbb.dylib' (no such file), '/System/Volumes/Preboot/Cryptexes/OS/private/var/folders/x8/1ptyff0107s65j03tt4ydrp40000gn/T/pip-install-_hgsvj0k/prophet_1fa22649b63641eeabb894052e62c2f0/build/lib.macosx-13-arm64-cpython-311/prophet/stan_model/cmdstan-2.31.0/stan/lib/stan_math/lib/tbb/libtbb.dylib' (no such file), '/private/var/folders/x8/1ptyff0107s65j03tt4ydrp40000gn/T/pip-install-_hgsvj0k/prophet_1fa22649b63641eeabb894052e62c2f0/build/lib.macosx-13-arm64-cpython-311/prophet/stan_model/cmdstan-2.31.0/stan/lib/stan_math/lib/tbb/libtbb.dylib' (no such file), '/System/Volumes/Preboot/Cryptexes/OS/private/var/folders/x8/1ptyff0107s65j03tt4ydrp40000gn/T/pip-install-_hgsvj0k/prophet_1fa22649b63641eeabb894052e62c2f0/build/lib.macosx-13-arm64-cpython-311/prophet/stan_model/cmdstan-2.31.0/stan/lib/stan_math/lib/tbb/libtbb.dylib' (no such file), '/private/var/folders/x8/1ptyff0107s65j03tt4ydrp40000gn/T/pip-install-_hgsvj0k/prophet_1fa22649b63641eeabb894052e62c2f0/build/lib.macosx-13-arm64-cpython-311/prophet/stan_model/cmdstan-2.31.0/stan/lib/stan_math/lib/tbb/libtbb.dylib' (no such file), '/System/Volumes/Preboot/Cryptexes/OS/private/var/folders/x8/1ptyff0107s65j03tt4ydrp40000gn/T/pip-install-_hgsvj0k/prophet_1fa22649b63641eeabb894052e62c2f0/build/lib.macosx-13-arm64-cpython-311/prophet/stan_model/cmdstan-2.31.0/stan/lib/stan_math/lib/tbb/libtbb.dylib' (no such file), '/private/var/folders/x8/1ptyff0107s65j03tt4ydrp40000gn/T/pip-install-_hgsvj0k/prophet_1fa22649b63641eeabb894052e62c2f0/build/lib.macosx-13-arm64-cpython-311/prophet/stan_model/cmdstan-2.31.0/stan/lib/stan_math/lib/tbb/libtbb.dylib' (no such file), '/System/Volumes/Preboot/Cryptexes/OS/private/var/folders/x8/1ptyff0107s65j03tt4ydrp40000gn/T/pip-install-_hgsvj0k/prophet_1fa22649b63641eeabb894052e62c2f0/build/lib.macosx-13-arm64-cpython-311/prophet/stan_model/cmdstan-2.31.0/stan/lib/stan_math/lib/tbb/libtbb.dylib' (no such file), '/usr/local/lib/libtbb.dylib' (no such file), '/usr/lib/libtbb.dylib' (no such file, not in dyld cache)\n",
      "\nDuring handling of the above exception, another exception occurred:\n",
      "\u001b[0;31mRuntimeError\u001b[0m                              Traceback (most recent call last)",
      "Cell \u001b[0;32mIn[18], line 3\u001b[0m\n\u001b[1;32m      1\u001b[0m \u001b[38;5;66;03m# Python\u001b[39;00m\n\u001b[1;32m      2\u001b[0m m \u001b[38;5;241m=\u001b[39m Prophet()\n\u001b[0;32m----> 3\u001b[0m \u001b[43mm\u001b[49m\u001b[38;5;241;43m.\u001b[39;49m\u001b[43mfit\u001b[49m\u001b[43m(\u001b[49m\u001b[43mdf\u001b[49m\u001b[43m)\u001b[49m\n",
      "File \u001b[0;32m/opt/homebrew/lib/python3.11/site-packages/prophet/forecaster.py:1181\u001b[0m, in \u001b[0;36mProphet.fit\u001b[0;34m(self, df, **kwargs)\u001b[0m\n\u001b[1;32m   1179\u001b[0m     \u001b[38;5;28mself\u001b[39m\u001b[38;5;241m.\u001b[39mparams \u001b[38;5;241m=\u001b[39m \u001b[38;5;28mself\u001b[39m\u001b[38;5;241m.\u001b[39mstan_backend\u001b[38;5;241m.\u001b[39msampling(stan_init, dat, \u001b[38;5;28mself\u001b[39m\u001b[38;5;241m.\u001b[39mmcmc_samples, \u001b[38;5;241m*\u001b[39m\u001b[38;5;241m*\u001b[39mkwargs)\n\u001b[1;32m   1180\u001b[0m \u001b[38;5;28;01melse\u001b[39;00m:\n\u001b[0;32m-> 1181\u001b[0m     \u001b[38;5;28mself\u001b[39m\u001b[38;5;241m.\u001b[39mparams \u001b[38;5;241m=\u001b[39m \u001b[38;5;28;43mself\u001b[39;49m\u001b[38;5;241;43m.\u001b[39;49m\u001b[43mstan_backend\u001b[49m\u001b[38;5;241;43m.\u001b[39;49m\u001b[43mfit\u001b[49m\u001b[43m(\u001b[49m\u001b[43mstan_init\u001b[49m\u001b[43m,\u001b[49m\u001b[43m \u001b[49m\u001b[43mdat\u001b[49m\u001b[43m,\u001b[49m\u001b[43m \u001b[49m\u001b[38;5;241;43m*\u001b[39;49m\u001b[38;5;241;43m*\u001b[39;49m\u001b[43mkwargs\u001b[49m\u001b[43m)\u001b[49m\n\u001b[1;32m   1183\u001b[0m \u001b[38;5;28mself\u001b[39m\u001b[38;5;241m.\u001b[39mstan_fit \u001b[38;5;241m=\u001b[39m \u001b[38;5;28mself\u001b[39m\u001b[38;5;241m.\u001b[39mstan_backend\u001b[38;5;241m.\u001b[39mstan_fit\n\u001b[1;32m   1184\u001b[0m \u001b[38;5;66;03m# If no changepoints were requested, replace delta with 0s\u001b[39;00m\n",
      "File \u001b[0;32m/opt/homebrew/lib/python3.11/site-packages/prophet/models.py:97\u001b[0m, in \u001b[0;36mCmdStanPyBackend.fit\u001b[0;34m(self, stan_init, stan_data, **kwargs)\u001b[0m\n\u001b[1;32m     95\u001b[0m     logger\u001b[38;5;241m.\u001b[39mwarning(\u001b[38;5;124m'\u001b[39m\u001b[38;5;124mOptimization terminated abnormally. Falling back to Newton.\u001b[39m\u001b[38;5;124m'\u001b[39m)\n\u001b[1;32m     96\u001b[0m     args[\u001b[38;5;124m'\u001b[39m\u001b[38;5;124malgorithm\u001b[39m\u001b[38;5;124m'\u001b[39m] \u001b[38;5;241m=\u001b[39m \u001b[38;5;124m'\u001b[39m\u001b[38;5;124mNewton\u001b[39m\u001b[38;5;124m'\u001b[39m\n\u001b[0;32m---> 97\u001b[0m     \u001b[38;5;28mself\u001b[39m\u001b[38;5;241m.\u001b[39mstan_fit \u001b[38;5;241m=\u001b[39m \u001b[38;5;28;43mself\u001b[39;49m\u001b[38;5;241;43m.\u001b[39;49m\u001b[43mmodel\u001b[49m\u001b[38;5;241;43m.\u001b[39;49m\u001b[43moptimize\u001b[49m\u001b[43m(\u001b[49m\u001b[38;5;241;43m*\u001b[39;49m\u001b[38;5;241;43m*\u001b[39;49m\u001b[43margs\u001b[49m\u001b[43m)\u001b[49m\n\u001b[1;32m     98\u001b[0m params \u001b[38;5;241m=\u001b[39m \u001b[38;5;28mself\u001b[39m\u001b[38;5;241m.\u001b[39mstan_to_dict_numpy(\n\u001b[1;32m     99\u001b[0m     \u001b[38;5;28mself\u001b[39m\u001b[38;5;241m.\u001b[39mstan_fit\u001b[38;5;241m.\u001b[39mcolumn_names, \u001b[38;5;28mself\u001b[39m\u001b[38;5;241m.\u001b[39mstan_fit\u001b[38;5;241m.\u001b[39moptimized_params_np)\n\u001b[1;32m    100\u001b[0m \u001b[38;5;28;01mfor\u001b[39;00m par \u001b[38;5;129;01min\u001b[39;00m params:\n",
      "File \u001b[0;32m/opt/homebrew/lib/python3.11/site-packages/cmdstanpy/model.py:738\u001b[0m, in \u001b[0;36mCmdStanModel.optimize\u001b[0;34m(self, data, seed, inits, output_dir, sig_figs, save_profile, algorithm, init_alpha, tol_obj, tol_rel_obj, tol_grad, tol_rel_grad, tol_param, history_size, iter, save_iterations, require_converged, show_console, refresh, time_fmt, timeout)\u001b[0m\n\u001b[1;32m    736\u001b[0m         get_logger()\u001b[38;5;241m.\u001b[39mwarning(msg)\n\u001b[1;32m    737\u001b[0m     \u001b[38;5;28;01melse\u001b[39;00m:\n\u001b[0;32m--> 738\u001b[0m         \u001b[38;5;28;01mraise\u001b[39;00m \u001b[38;5;167;01mRuntimeError\u001b[39;00m(msg)\n\u001b[1;32m    739\u001b[0m mle \u001b[38;5;241m=\u001b[39m CmdStanMLE(runset)\n\u001b[1;32m    740\u001b[0m \u001b[38;5;28;01mreturn\u001b[39;00m mle\n",
      "\u001b[0;31mRuntimeError\u001b[0m: Error during optimization! Command '/opt/homebrew/lib/python3.11/site-packages/prophet/stan_model/prophet_model.bin random seed=24955 data file=/var/folders/x8/1ptyff0107s65j03tt4ydrp40000gn/T/tmpfoi3fvbj/5_n4oru3.json init=/var/folders/x8/1ptyff0107s65j03tt4ydrp40000gn/T/tmpfoi3fvbj/3pp4jacu.json output file=/var/folders/x8/1ptyff0107s65j03tt4ydrp40000gn/T/tmpfoi3fvbj/prophet_modelw2yns04x/prophet_model-20230627213829.csv method=optimize algorithm=newton iter=10000' failed: console log output:\n\ndyld[4060]: Library not loaded: @rpath/libtbb.dylib\n  Referenced from: <436C1B56-96D4-36C7-AFF2-F5044AE0E2DB> /opt/homebrew/lib/python3.11/site-packages/prophet/stan_model/prophet_model.bin\n  Reason: tried: '/private/var/folders/x8/1ptyff0107s65j03tt4ydrp40000gn/T/pip-install-_hgsvj0k/prophet_1fa22649b63641eeabb894052e62c2f0/build/lib.macosx-13-arm64-cpython-311/prophet/stan_model/cmdstan-2.31.0/stan/lib/stan_math/lib/tbb/libtbb.dylib' (no such file), '/System/Volumes/Preboot/Cryptexes/OS/private/var/folders/x8/1ptyff0107s65j03tt4ydrp40000gn/T/pip-install-_hgsvj0k/prophet_1fa22649b63641eeabb894052e62c2f0/build/lib.macosx-13-arm64-cpython-311/prophet/stan_model/cmdstan-2.31.0/stan/lib/stan_math/lib/tbb/libtbb.dylib' (no such file), '/private/var/folders/x8/1ptyff0107s65j03tt4ydrp40000gn/T/pip-install-_hgsvj0k/prophet_1fa22649b63641eeabb894052e62c2f0/build/lib.macosx-13-arm64-cpython-311/prophet/stan_model/cmdstan-2.31.0/stan/lib/stan_math/lib/tbb/libtbb.dylib' (no such file), '/System/Volumes/Preboot/Cryptexes/OS/private/var/folders/x8/1ptyff0107s65j03tt4ydrp40000gn/T/pip-install-_hgsvj0k/prophet_1fa22649b63641eeabb894052e62c2f0/build/lib.macosx-13-arm64-cpython-311/prophet/stan_model/cmdstan-2.31.0/stan/lib/stan_math/lib/tbb/libtbb.dylib' (no such file), '/private/var/folders/x8/1ptyff0107s65j03tt4ydrp40000gn/T/pip-install-_hgsvj0k/prophet_1fa22649b63641eeabb894052e62c2f0/build/lib.macosx-13-arm64-cpython-311/prophet/stan_model/cmdstan-2.31.0/stan/lib/stan_math/lib/tbb/libtbb.dylib' (no such file), '/System/Volumes/Preboot/Cryptexes/OS/private/var/folders/x8/1ptyff0107s65j03tt4ydrp40000gn/T/pip-install-_hgsvj0k/prophet_1fa22649b63641eeabb894052e62c2f0/build/lib.macosx-13-arm64-cpython-311/prophet/stan_model/cmdstan-2.31.0/stan/lib/stan_math/lib/tbb/libtbb.dylib' (no such file), '/private/var/folders/x8/1ptyff0107s65j03tt4ydrp40000gn/T/pip-install-_hgsvj0k/prophet_1fa22649b63641eeabb894052e62c2f0/build/lib.macosx-13-arm64-cpython-311/prophet/stan_model/cmdstan-2.31.0/stan/lib/stan_math/lib/tbb/libtbb.dylib' (no such file), '/System/Volumes/Preboot/Cryptexes/OS/private/var/folders/x8/1ptyff0107s65j03tt4ydrp40000gn/T/pip-install-_hgsvj0k/prophet_1fa22649b63641eeabb894052e62c2f0/build/lib.macosx-13-arm64-cpython-311/prophet/stan_model/cmdstan-2.31.0/stan/lib/stan_math/lib/tbb/libtbb.dylib' (no such file), '/usr/local/lib/libtbb.dylib' (no such file), '/usr/lib/libtbb.dylib' (no such file, not in dyld cache)\n"
     ]
    }
   ],
   "source": [
    "# Python\n",
    "m = Prophet()\n",
    "m.fit(df)\n"
   ]
  },
  {
   "cell_type": "code",
   "execution_count": 22,
   "id": "d351d8bf",
   "metadata": {},
   "outputs": [
    {
     "data": {
      "text/html": [
       "<div>\n",
       "<style scoped>\n",
       "    .dataframe tbody tr th:only-of-type {\n",
       "        vertical-align: middle;\n",
       "    }\n",
       "\n",
       "    .dataframe tbody tr th {\n",
       "        vertical-align: top;\n",
       "    }\n",
       "\n",
       "    .dataframe thead th {\n",
       "        text-align: right;\n",
       "    }\n",
       "</style>\n",
       "<table border=\"1\" class=\"dataframe\">\n",
       "  <thead>\n",
       "    <tr style=\"text-align: right;\">\n",
       "      <th></th>\n",
       "      <th>ds</th>\n",
       "    </tr>\n",
       "  </thead>\n",
       "  <tbody>\n",
       "    <tr>\n",
       "      <th>753</th>\n",
       "      <td>2018-10-11 00:00:00</td>\n",
       "    </tr>\n",
       "    <tr>\n",
       "      <th>754</th>\n",
       "      <td>2018-10-12 00:00:00</td>\n",
       "    </tr>\n",
       "    <tr>\n",
       "      <th>755</th>\n",
       "      <td>2018-10-15 00:00:00</td>\n",
       "    </tr>\n",
       "    <tr>\n",
       "      <th>756</th>\n",
       "      <td>2023-06-27 11:34:00</td>\n",
       "    </tr>\n",
       "    <tr>\n",
       "      <th>757</th>\n",
       "      <td>2023-06-28 11:34:00</td>\n",
       "    </tr>\n",
       "  </tbody>\n",
       "</table>\n",
       "</div>"
      ],
      "text/plain": [
       "                     ds\n",
       "753 2018-10-11 00:00:00\n",
       "754 2018-10-12 00:00:00\n",
       "755 2018-10-15 00:00:00\n",
       "756 2023-06-27 11:34:00\n",
       "757 2023-06-28 11:34:00"
      ]
     },
     "execution_count": 22,
     "metadata": {},
     "output_type": "execute_result"
    }
   ],
   "source": [
    "# Python\n",
    "future = m.make_future_dataframe(periods=365)\n",
    "future.tail()\n",
    "\n"
   ]
  },
  {
   "cell_type": "code",
   "execution_count": 23,
   "id": "5c16e7fa",
   "metadata": {},
   "outputs": [
    {
     "data": {
      "text/html": [
       "<div>\n",
       "<style scoped>\n",
       "    .dataframe tbody tr th:only-of-type {\n",
       "        vertical-align: middle;\n",
       "    }\n",
       "\n",
       "    .dataframe tbody tr th {\n",
       "        vertical-align: top;\n",
       "    }\n",
       "\n",
       "    .dataframe thead th {\n",
       "        text-align: right;\n",
       "    }\n",
       "</style>\n",
       "<table border=\"1\" class=\"dataframe\">\n",
       "  <thead>\n",
       "    <tr style=\"text-align: right;\">\n",
       "      <th></th>\n",
       "      <th>close</th>\n",
       "      <th>open</th>\n",
       "      <th>high</th>\n",
       "      <th>low</th>\n",
       "      <th>ds</th>\n",
       "      <th>y</th>\n",
       "    </tr>\n",
       "  </thead>\n",
       "  <tbody>\n",
       "    <tr>\n",
       "      <th>count</th>\n",
       "      <td>757.000000</td>\n",
       "      <td>757.000000</td>\n",
       "      <td>757.000000</td>\n",
       "      <td>757.000000</td>\n",
       "      <td>757</td>\n",
       "      <td>757.000000</td>\n",
       "    </tr>\n",
       "    <tr>\n",
       "      <th>mean</th>\n",
       "      <td>272.645614</td>\n",
       "      <td>272.760659</td>\n",
       "      <td>277.122776</td>\n",
       "      <td>268.017399</td>\n",
       "      <td>2017-04-18 18:29:55.561426688</td>\n",
       "      <td>272.645614</td>\n",
       "    </tr>\n",
       "    <tr>\n",
       "      <th>min</th>\n",
       "      <td>143.670000</td>\n",
       "      <td>142.320000</td>\n",
       "      <td>154.970000</td>\n",
       "      <td>141.050000</td>\n",
       "      <td>2015-10-15 00:00:00</td>\n",
       "      <td>143.670000</td>\n",
       "    </tr>\n",
       "    <tr>\n",
       "      <th>25%</th>\n",
       "      <td>219.560000</td>\n",
       "      <td>219.640000</td>\n",
       "      <td>222.569000</td>\n",
       "      <td>216.080000</td>\n",
       "      <td>2016-07-18 00:00:00</td>\n",
       "      <td>219.560000</td>\n",
       "    </tr>\n",
       "    <tr>\n",
       "      <th>50%</th>\n",
       "      <td>277.450000</td>\n",
       "      <td>277.625000</td>\n",
       "      <td>280.789900</td>\n",
       "      <td>273.550000</td>\n",
       "      <td>2017-04-18 00:00:00</td>\n",
       "      <td>277.450000</td>\n",
       "    </tr>\n",
       "    <tr>\n",
       "      <th>75%</th>\n",
       "      <td>322.690000</td>\n",
       "      <td>321.560000</td>\n",
       "      <td>327.120000</td>\n",
       "      <td>316.560100</td>\n",
       "      <td>2018-01-17 00:00:00</td>\n",
       "      <td>322.690000</td>\n",
       "    </tr>\n",
       "    <tr>\n",
       "      <th>max</th>\n",
       "      <td>385.000000</td>\n",
       "      <td>386.690000</td>\n",
       "      <td>389.610000</td>\n",
       "      <td>379.345000</td>\n",
       "      <td>2023-06-27 11:34:00</td>\n",
       "      <td>385.000000</td>\n",
       "    </tr>\n",
       "    <tr>\n",
       "      <th>std</th>\n",
       "      <td>58.378585</td>\n",
       "      <td>58.449827</td>\n",
       "      <td>59.194761</td>\n",
       "      <td>57.515736</td>\n",
       "      <td>NaN</td>\n",
       "      <td>58.378585</td>\n",
       "    </tr>\n",
       "  </tbody>\n",
       "</table>\n",
       "</div>"
      ],
      "text/plain": [
       "            close        open        high         low  \\\n",
       "count  757.000000  757.000000  757.000000  757.000000   \n",
       "mean   272.645614  272.760659  277.122776  268.017399   \n",
       "min    143.670000  142.320000  154.970000  141.050000   \n",
       "25%    219.560000  219.640000  222.569000  216.080000   \n",
       "50%    277.450000  277.625000  280.789900  273.550000   \n",
       "75%    322.690000  321.560000  327.120000  316.560100   \n",
       "max    385.000000  386.690000  389.610000  379.345000   \n",
       "std     58.378585   58.449827   59.194761   57.515736   \n",
       "\n",
       "                                  ds           y  \n",
       "count                            757  757.000000  \n",
       "mean   2017-04-18 18:29:55.561426688  272.645614  \n",
       "min              2015-10-15 00:00:00  143.670000  \n",
       "25%              2016-07-18 00:00:00  219.560000  \n",
       "50%              2017-04-18 00:00:00  277.450000  \n",
       "75%              2018-01-17 00:00:00  322.690000  \n",
       "max              2023-06-27 11:34:00  385.000000  \n",
       "std                              NaN   58.378585  "
      ]
     },
     "execution_count": 23,
     "metadata": {},
     "output_type": "execute_result"
    }
   ],
   "source": [
    "df.describe()"
   ]
  },
  {
   "cell_type": "code",
   "execution_count": 24,
   "id": "15436e65",
   "metadata": {},
   "outputs": [
    {
     "data": {
      "text/plain": [
       "<bound method NDFrame.head of            date   close         volume    open      high       low  \\\n",
       "0         11:34  270.49      4,787,699  264.50  273.8800  262.2400   \n",
       "1    2018/10/15  259.59   6189026.0000  259.06  263.2800  254.5367   \n",
       "2    2018/10/12  258.78   7189257.0000  261.00  261.9900  252.0100   \n",
       "3    2018/10/11  252.23   8128184.0000  257.53  262.2500  249.0300   \n",
       "4    2018/10/10  256.88  12781560.0000  264.61  265.5100  247.7700   \n",
       "..          ...     ...            ...     ...       ...       ...   \n",
       "752  2015/10/21  210.09   4177956.0000  211.99  214.8100  208.8000   \n",
       "753  2015/10/20  213.03  14877020.0000  227.72  228.6000  202.0000   \n",
       "754  2015/10/19  228.10   2506836.0000  226.50  231.1500  224.9400   \n",
       "755  2015/10/16  227.01   4327574.0000  223.04  230.4805  222.8700   \n",
       "756  2015/10/15  221.31   2835920.0000  216.43  221.7300  213.7000   \n",
       "\n",
       "                     ds       y  \n",
       "0   2023-06-27 11:34:00  270.49  \n",
       "1   2018-10-15 00:00:00  259.59  \n",
       "2   2018-10-12 00:00:00  258.78  \n",
       "3   2018-10-11 00:00:00  252.23  \n",
       "4   2018-10-10 00:00:00  256.88  \n",
       "..                  ...     ...  \n",
       "752 2015-10-21 00:00:00  210.09  \n",
       "753 2015-10-20 00:00:00  213.03  \n",
       "754 2015-10-19 00:00:00  228.10  \n",
       "755 2015-10-16 00:00:00  227.01  \n",
       "756 2015-10-15 00:00:00  221.31  \n",
       "\n",
       "[757 rows x 8 columns]>"
      ]
     },
     "execution_count": 24,
     "metadata": {},
     "output_type": "execute_result"
    }
   ],
   "source": [
    "df.head\n"
   ]
  },
  {
   "cell_type": "code",
   "execution_count": 29,
   "id": "b9daf1ae",
   "metadata": {},
   "outputs": [
    {
     "ename": "KeyError",
     "evalue": "'k'",
     "output_type": "error",
     "traceback": [
      "\u001b[0;31m---------------------------------------------------------------------------\u001b[0m",
      "\u001b[0;31mKeyError\u001b[0m                                  Traceback (most recent call last)",
      "Cell \u001b[0;32mIn[29], line 2\u001b[0m\n\u001b[1;32m      1\u001b[0m \u001b[38;5;66;03m# Perform the forecasting\u001b[39;00m\n\u001b[0;32m----> 2\u001b[0m forecast \u001b[38;5;241m=\u001b[39m \u001b[43mm\u001b[49m\u001b[38;5;241;43m.\u001b[39;49m\u001b[43mpredict\u001b[49m\u001b[43m(\u001b[49m\u001b[43mfuture\u001b[49m\u001b[43m)\u001b[49m\n\u001b[1;32m      3\u001b[0m \u001b[38;5;66;03m#print(forecast[['ds', 'open', 'high', 'low']].tail())\u001b[39;00m\n\u001b[1;32m      4\u001b[0m \n\u001b[1;32m      5\u001b[0m \u001b[38;5;66;03m# Plot the forecasted share prices\u001b[39;00m\n\u001b[1;32m      6\u001b[0m \u001b[38;5;66;03m#m.plot(forecast)\u001b[39;00m\n\u001b[1;32m      7\u001b[0m \u001b[38;5;66;03m#m.plot_components(forecast)\u001b[39;00m\n",
      "File \u001b[0;32m/opt/homebrew/lib/python3.11/site-packages/prophet/forecaster.py:1221\u001b[0m, in \u001b[0;36mProphet.predict\u001b[0;34m(self, df, vectorized)\u001b[0m\n\u001b[1;32m   1218\u001b[0m         \u001b[38;5;28;01mraise\u001b[39;00m \u001b[38;5;167;01mValueError\u001b[39;00m(\u001b[38;5;124m'\u001b[39m\u001b[38;5;124mDataframe has no rows.\u001b[39m\u001b[38;5;124m'\u001b[39m)\n\u001b[1;32m   1219\u001b[0m     df \u001b[38;5;241m=\u001b[39m \u001b[38;5;28mself\u001b[39m\u001b[38;5;241m.\u001b[39msetup_dataframe(df\u001b[38;5;241m.\u001b[39mcopy())\n\u001b[0;32m-> 1221\u001b[0m df[\u001b[38;5;124m'\u001b[39m\u001b[38;5;124mtrend\u001b[39m\u001b[38;5;124m'\u001b[39m] \u001b[38;5;241m=\u001b[39m \u001b[38;5;28;43mself\u001b[39;49m\u001b[38;5;241;43m.\u001b[39;49m\u001b[43mpredict_trend\u001b[49m\u001b[43m(\u001b[49m\u001b[43mdf\u001b[49m\u001b[43m)\u001b[49m\n\u001b[1;32m   1222\u001b[0m seasonal_components \u001b[38;5;241m=\u001b[39m \u001b[38;5;28mself\u001b[39m\u001b[38;5;241m.\u001b[39mpredict_seasonal_components(df)\n\u001b[1;32m   1223\u001b[0m \u001b[38;5;28;01mif\u001b[39;00m \u001b[38;5;28mself\u001b[39m\u001b[38;5;241m.\u001b[39muncertainty_samples:\n",
      "File \u001b[0;32m/opt/homebrew/lib/python3.11/site-packages/prophet/forecaster.py:1324\u001b[0m, in \u001b[0;36mProphet.predict_trend\u001b[0;34m(self, df)\u001b[0m\n\u001b[1;32m   1313\u001b[0m \u001b[38;5;28;01mdef\u001b[39;00m \u001b[38;5;21mpredict_trend\u001b[39m(\u001b[38;5;28mself\u001b[39m, df):\n\u001b[1;32m   1314\u001b[0m \u001b[38;5;250m    \u001b[39m\u001b[38;5;124;03m\"\"\"Predict trend using the prophet model.\u001b[39;00m\n\u001b[1;32m   1315\u001b[0m \n\u001b[1;32m   1316\u001b[0m \u001b[38;5;124;03m    Parameters\u001b[39;00m\n\u001b[0;32m   (...)\u001b[0m\n\u001b[1;32m   1322\u001b[0m \u001b[38;5;124;03m    Vector with trend on prediction dates.\u001b[39;00m\n\u001b[1;32m   1323\u001b[0m \u001b[38;5;124;03m    \"\"\"\u001b[39;00m\n\u001b[0;32m-> 1324\u001b[0m     k \u001b[38;5;241m=\u001b[39m np\u001b[38;5;241m.\u001b[39mnanmean(\u001b[38;5;28;43mself\u001b[39;49m\u001b[38;5;241;43m.\u001b[39;49m\u001b[43mparams\u001b[49m\u001b[43m[\u001b[49m\u001b[38;5;124;43m'\u001b[39;49m\u001b[38;5;124;43mk\u001b[39;49m\u001b[38;5;124;43m'\u001b[39;49m\u001b[43m]\u001b[49m)\n\u001b[1;32m   1325\u001b[0m     m \u001b[38;5;241m=\u001b[39m np\u001b[38;5;241m.\u001b[39mnanmean(\u001b[38;5;28mself\u001b[39m\u001b[38;5;241m.\u001b[39mparams[\u001b[38;5;124m'\u001b[39m\u001b[38;5;124mm\u001b[39m\u001b[38;5;124m'\u001b[39m])\n\u001b[1;32m   1326\u001b[0m     deltas \u001b[38;5;241m=\u001b[39m np\u001b[38;5;241m.\u001b[39mnanmean(\u001b[38;5;28mself\u001b[39m\u001b[38;5;241m.\u001b[39mparams[\u001b[38;5;124m'\u001b[39m\u001b[38;5;124mdelta\u001b[39m\u001b[38;5;124m'\u001b[39m], axis\u001b[38;5;241m=\u001b[39m\u001b[38;5;241m0\u001b[39m)\n",
      "\u001b[0;31mKeyError\u001b[0m: 'k'"
     ]
    }
   ],
   "source": [
    "# Perform the forecasting\n",
    "forecast = m.predict(future)\n",
    "#print(forecast[['ds', 'open', 'high', 'low']].tail())\n",
    "\n",
    "# Plot the forecasted share prices\n",
    "#m.plot(forecast)\n",
    "#m.plot_components(forecast)"
   ]
  },
  {
   "cell_type": "code",
   "execution_count": null,
   "id": "e1c630b4",
   "metadata": {},
   "outputs": [],
   "source": []
  }
 ],
 "metadata": {
  "kernelspec": {
   "display_name": "Python 3 (ipykernel)",
   "language": "python",
   "name": "python3"
  },
  "language_info": {
   "codemirror_mode": {
    "name": "ipython",
    "version": 3
   },
   "file_extension": ".py",
   "mimetype": "text/x-python",
   "name": "python",
   "nbconvert_exporter": "python",
   "pygments_lexer": "ipython3",
   "version": "3.11.3"
  }
 },
 "nbformat": 4,
 "nbformat_minor": 5
}
